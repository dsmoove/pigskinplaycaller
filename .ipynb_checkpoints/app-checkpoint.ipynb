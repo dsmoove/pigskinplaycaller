{
 "cells": [
  {
   "cell_type": "code",
   "execution_count": 1,
   "metadata": {},
   "outputs": [],
   "source": [
    "# Load Modules\n",
    "import pandas as pd\n",
    "import glob\n",
    "import pandas as pd\n",
    "import numpy as np\n",
    "import os\n",
    "import seaborn as sns\n",
    "import matplotlib.pyplot as plt\n",
    "import matplotlib.patches as patches\n",
    "from sklearn.model_selection import train_test_split\n",
    "from sklearn.linear_model import LogisticRegression\n",
    "from sklearn.preprocessing import StandardScaler\n",
    "from sklearn.tree import DecisionTreeClassifier\n",
    "from sklearn.linear_model import LinearRegression\n",
    "from sklearn.ensemble import GradientBoostingRegressor\n",
    "from sklearn.tree import DecisionTreeRegressor\n",
    "from sklearn.ensemble import RandomForestRegressor\n",
    "from sklearn import metrics\n",
    "from sklearn.preprocessing import PolynomialFeatures\n",
    "from sklearn.metrics import mean_squared_error\n",
    "from sklearn.model_selection import GridSearchCV\n",
    "import xgboost as xgb\n",
    "from sklearn.model_selection import cross_val_score\n",
    "from sklearn.model_selection import KFold\n",
    "from sklearn import model_selection\n",
    "import streamlit as st\n",
    "import pickle\n",
    "\n",
    "# path = r'C:\\Users\\admin\\Documents\\Flatiron\\capstone\\pigskin\\data\\weekly' # use your path\n",
    "# all_files = glob.glob(path + \"/*.csv\")\n",
    "\n",
    "# li = []\n",
    "\n",
    "# for filename in all_files:\n",
    "#     df = pd.read_csv(filename, index_col=None, header=0)\n",
    "#     li.append(df)\n",
    "\n",
    "# df_weekly = pd.concat(li, axis=0, ignore_index=True)"
   ]
  },
  {
   "cell_type": "code",
   "execution_count": 2,
   "metadata": {},
   "outputs": [],
   "source": [
    "# load Pickled Model\n",
    "with open('model.pkl', 'rb') as f:\n",
    "    gbr = pickle.load(f)"
   ]
  },
  {
   "cell_type": "code",
   "execution_count": 3,
   "metadata": {},
   "outputs": [],
   "source": [
    "#Loading Data\n",
    "players = pd.read_csv('data/players.csv')\n",
    "df_games = pd.read_csv('data/weekly/week1.csv')\n",
    "df_plays = pd.read_csv('data/plays.csv')\n",
    "df_fo = pd.read_csv('data/2018fo.csv')\n",
    "df_coverages = pd.read_csv('data/coverages_week1.csv')\n",
    "df_fastr = data = pd.read_csv(\n",
    "    'https://github.com/guga31bb/nflfastR-data/blob/master/data/play_by_play_' \\\n",
    "    + str(2018) + '.csv.gz?raw=True',compression='gzip', low_memory=False)\n"
   ]
  },
  {
   "cell_type": "code",
   "execution_count": 4,
   "metadata": {},
   "outputs": [],
   "source": [
    "#Scale EPA to 0-1 min max\n",
    "df_plays['scaled_epa'] = (df_plays['epa'] - min(df_plays['epa'])) / (max(df_plays['epa']) - min(df_plays['epa']))"
   ]
  },
  {
   "cell_type": "code",
   "execution_count": 5,
   "metadata": {},
   "outputs": [],
   "source": [
    "#Merge tables\n",
    "df_plays_coverage = pd.merge(df_plays,df_coverages,left_on=['gameId','playId'],right_on=['gameId','playId'])\n",
    "df_plays_final = pd.merge(df_plays_coverage,df_games,left_on=['gameId','playId'],right_on=['gameId','playId'])\n",
    "#df_plays_final = pd.merge(df_plays_coverage,df_games,on='Id')\n",
    "#df_plays_final"
   ]
  },
  {
   "cell_type": "code",
   "execution_count": 6,
   "metadata": {},
   "outputs": [],
   "source": [
    "#Limit our data to only positioning at ball snap\n",
    "df_plays_final = df_plays_final[df_plays_final.event == 'ball_snap']"
   ]
  },
  {
   "cell_type": "code",
   "execution_count": 7,
   "metadata": {},
   "outputs": [],
   "source": [
    "df_plays_final = df_plays_final.drop_duplicates(subset='playId', keep=\"first\")"
   ]
  },
  {
   "cell_type": "code",
   "execution_count": 8,
   "metadata": {},
   "outputs": [],
   "source": [
    "df_plays_new = pd.merge(df_plays_final,df_fastr[['old_game_id','play_id','weather', 'roof', 'surface','temp','wind']], how = 'left',left_on=['gameId','playId'],right_on=['old_game_id','play_id'])"
   ]
  },
  {
   "cell_type": "code",
   "execution_count": 9,
   "metadata": {},
   "outputs": [],
   "source": [
    "df_plays_new.drop(['playDirection','gameId', 'playId', 'playDescription', 'quarter', 'possessionTeam', 'playType','yardlineSide','yardlineNumber','preSnapVisitorScore','preSnapHomeScore','gameClock','absoluteYardlineNumber','penaltyCodes','penaltyJerseyNumbers','passResult','offensePlayResult','playResult','epa','isDefensivePI','time','x','y','s','a','dis','o','dir','event','nflId','displayName','jerseyNumber','position','frameId','team','gameId','typeDropback','old_game_id','weather'], axis=1, inplace=True)"
   ]
  },
  {
   "cell_type": "code",
   "execution_count": 10,
   "metadata": {},
   "outputs": [],
   "source": [
    "# Title our App\n",
    "st.write(\"\"\"\n",
    "# Pigskin Playcaller\n",
    "This app will call your plays!\n",
    "\"\"\")"
   ]
  },
  {
   "cell_type": "code",
   "execution_count": 11,
   "metadata": {},
   "outputs": [],
   "source": [
    "# page_bg_img = '''\n",
    "# <style>\n",
    "# body {\n",
    "# background-image: url(\"https://images.fineartamerica.com/images-medium-large-5/1-yard-numbers-and-line-on-american-football-field-at-night-howard-sun.jpg\");\n",
    "# background-size: cover;\n",
    "# }\n",
    "# </style>\n",
    "# '''\n",
    "\n",
    "# st.markdown(page_bg_img, unsafe_allow_html=True)"
   ]
  },
  {
   "cell_type": "code",
   "execution_count": 12,
   "metadata": {},
   "outputs": [
    {
     "data": {
      "text/plain": [
       "<streamlit.delta_generator.DeltaGenerator at 0x1c3db84fdc0>"
      ]
     },
     "execution_count": 12,
     "metadata": {},
     "output_type": "execute_result"
    }
   ],
   "source": [
    "# Create sidebar and header\n",
    "st.sidebar.header('User Input Parameters')"
   ]
  },
  {
   "cell_type": "code",
   "execution_count": 13,
   "metadata": {},
   "outputs": [],
   "source": [
    "# Define function that will allow user input into the app\n",
    "def user_input_features():\n",
    "    down = st.sidebar.selectbox('Current Down', df_plays_new['down'].unique())\n",
    "    yardage = st.sidebar.slider('Yards Left to First Down', 0, 100)\n",
    "    wind = st.sidebar.slider('Wind MPH', 0, 100)\n",
    "    temp = st.sidebar.slider('Current Temperature', 0, 100)\n",
    "    roof = st.sidebar.selectbox('Stadium', df_plays_new['roof'].unique())\n",
    "    formation = st.sidebar.selectbox('Offensive Formation', df_plays_new['offenseFormation'].unique())\n",
    "    personnelO = st.sidebar.selectbox('Offensive Personnel', df_plays_new['personnelO'].unique())\n",
    "    surface = st.sidebar.selectbox('Surface', df_plays_new['surface'].unique())\n",
    "    data = {'down': down,\n",
    "            'yardsToGo' : yardage,\n",
    "            'temp': temp,\n",
    "            'roof': roof,\n",
    "            'offenseFormation': formation,\n",
    "            'personnelO': personnelO,\n",
    "            'surface': surface}\n",
    "    features = pd.DataFrame(data, index=[0])\n",
    "    return features"
   ]
  },
  {
   "cell_type": "code",
   "execution_count": 14,
   "metadata": {},
   "outputs": [],
   "source": [
    "# Run our function\n",
    "df = user_input_features()"
   ]
  },
  {
   "cell_type": "code",
   "execution_count": 15,
   "metadata": {},
   "outputs": [],
   "source": [
    "# Write our inputs\n",
    "st.subheader('User Input parameters')\n",
    "st.write(df)"
   ]
  },
  {
   "cell_type": "code",
   "execution_count": 16,
   "metadata": {},
   "outputs": [],
   "source": [
    "# Dummy our inputs\n",
    "oform_dummies = pd.get_dummies(df['offenseFormation'])\n",
    "roof_dummies = pd.get_dummies(df['roof'])\n",
    "opersonnel_dummies = pd.get_dummies(df['personnelO'])\n",
    "surface_dummies = pd.get_dummies(df['surface'])\n",
    "df_model = pd.concat([df, oform_dummies,opersonnel_dummies,roof_dummies,surface_dummies], axis=1)"
   ]
  },
  {
   "cell_type": "code",
   "execution_count": 17,
   "metadata": {},
   "outputs": [],
   "source": [
    "# Define our columns\n",
    "cols = ['down',\n",
    " 'yardsToGo',\n",
    " 'defendersInTheBox',\n",
    " 'numberOfPassRushers',\n",
    " 'temp',\n",
    " 'wind',\n",
    " 'I_FORM',\n",
    " 'PISTOL',\n",
    " 'SHOTGUN',\n",
    " 'SINGLEBACK',\n",
    " 'WILDCAT',\n",
    " '0 RB, 2 TE, 3 WR',\n",
    " '1 RB, 0 TE, 4 WR',\n",
    " '1 RB, 1 TE, 2 WR,1 DL',\n",
    " '1 RB, 1 TE, 3 WR',\n",
    " '1 RB, 2 TE, 2 WR',\n",
    " '1 RB, 3 TE, 1 WR',\n",
    " '2 QB, 0 RB, 1 TE, 3 WR',\n",
    " '2 QB, 1 RB, 1 TE, 2 WR',\n",
    " '2 RB, 0 TE, 3 WR',\n",
    " '2 RB, 1 TE, 2 WR',\n",
    " '2 RB, 2 TE, 1 WR',\n",
    " '2 RB, 3 TE, 0 WR',\n",
    " '3 RB, 1 TE, 1 WR',\n",
    " '6 OL, 1 RB, 1 TE, 2 WR',\n",
    " '6 OL, 1 RB, 2 TE, 1 WR',\n",
    " '6 OL, 2 RB, 0 TE, 2 WR',\n",
    " 'Cover 1 Man',\n",
    " 'Cover 2 Man',\n",
    " 'Cover 2 Zone',\n",
    " 'Cover 3 Zone',\n",
    " 'Cover 4 Zone',\n",
    " 'Cover 6 Zone',\n",
    " 'Prevent Zone',\n",
    " 'dome',\n",
    " 'outdoors',\n",
    " 'grass',\n",
    " 'sportturf']"
   ]
  },
  {
   "cell_type": "code",
   "execution_count": 18,
   "metadata": {},
   "outputs": [],
   "source": [
    "# Reindex our columns\n",
    "df_run = df_model.reindex(cols, axis=1, fill_value=0)"
   ]
  },
  {
   "cell_type": "code",
   "execution_count": 19,
   "metadata": {},
   "outputs": [],
   "source": [
    "# Default defenders in box + pass rushers\n",
    "df_run.at[0,'defendersInTheBox']= 6\n",
    "df_run.at[0,'numberOfPassRushers']= 4"
   ]
  },
  {
   "cell_type": "code",
   "execution_count": 20,
   "metadata": {},
   "outputs": [],
   "source": [
    "# Duplicate rows\n",
    "df_coverages = pd.concat([df_run]*7, ignore_index=True)"
   ]
  },
  {
   "cell_type": "code",
   "execution_count": 21,
   "metadata": {},
   "outputs": [],
   "source": [
    "# Run model with each coverage type\n",
    "df_coverages.at[0,'Cover 1 Man']= 1\n",
    "df_coverages.at[1,'Cover 2 Man'] = 1\n",
    "df_coverages.at[2,'Cover 2 Zone'] = 1\n",
    "df_coverages.at[3,'Cover 3 Zone'] = 1\n",
    "df_coverages.at[4,'Cover 4 Zone'] = 1\n",
    "df_coverages.at[5,'Cover 6 Zone'] = 1\n",
    "df_coverages.at[6,'Prevent Zone'] = 1"
   ]
  },
  {
   "cell_type": "code",
   "execution_count": 22,
   "metadata": {},
   "outputs": [],
   "source": [
    "# Predict\n",
    "prediction = gbr.predict(df_coverages)"
   ]
  },
  {
   "cell_type": "code",
   "execution_count": 23,
   "metadata": {},
   "outputs": [],
   "source": [
    "# Append to original DF\n",
    "df_coverages['prediction1'] = prediction"
   ]
  },
  {
   "cell_type": "code",
   "execution_count": 24,
   "metadata": {},
   "outputs": [],
   "source": [
    "# Define lowest value\n",
    "low_val = df_coverages[df_coverages['prediction1']==df_coverages['prediction1'].min()]\n",
    "best_coverage = low_val.loc[:,\"Cover 1 Man\":\"Prevent Zone\"].eq(1).idxmax(1)"
   ]
  },
  {
   "cell_type": "code",
   "execution_count": 26,
   "metadata": {},
   "outputs": [],
   "source": [
    "# Print Best Coverage\n",
    "st.write(best_coverage)"
   ]
  },
  {
   "cell_type": "code",
   "execution_count": null,
   "metadata": {},
   "outputs": [],
   "source": []
  }
 ],
 "metadata": {
  "kernelspec": {
   "display_name": "Python 3",
   "language": "python",
   "name": "python3"
  },
  "language_info": {
   "codemirror_mode": {
    "name": "ipython",
    "version": 3
   },
   "file_extension": ".py",
   "mimetype": "text/x-python",
   "name": "python",
   "nbconvert_exporter": "python",
   "pygments_lexer": "ipython3",
   "version": "3.8.3"
  }
 },
 "nbformat": 4,
 "nbformat_minor": 4
}
